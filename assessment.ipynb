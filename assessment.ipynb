{
 "cells": [
  {
   "cell_type": "markdown",
   "metadata": {},
   "source": [
    "# Objectives\n",
    "YW\n",
    "* scrape a website for relevant information, store that information to a dataframe and save that dataframe as a csv file\n",
    "* load in a dataframe and do the following\n",
    "    * calculate the zscores of a given column\n",
    "    * calculate the zscores of a point from a given column in the dataframe\n",
    "    * calculate and plot the pmf and cdf of another column"
   ]
  },
  {
   "cell_type": "markdown",
   "metadata": {},
   "source": [
    "# Part 1 - Webscraping\n",
    "* use the following url scrape the first page of results\n",
    "* for each item get the name of the item\n",
    "* store the names to a dataframe and save that dataframe to csv then display\n",
    "    * store the dataframe in the `data` folder in the repo\n",
    "    * name the file `part1.csv` and make sure that when you write it you set `index=False`\n",
    "* the head of the dataframe\n",
    "\n",
    "* it should match the following\n",
    "<img src=\"solutions/images/part1.png\"/>"
   ]
  },
  {
   "cell_type": "code",
   "execution_count": 3,
   "metadata": {},
   "outputs": [
    {
     "name": "stdout",
     "output_type": "stream",
     "text": [
      "\n",
      "<!doctype html>\n",
      "<!--[if lt IE 7]> <html class=\"ie6 oldie\" lang=\"en\"> <![endif]-->\n",
      "<!--[if IE 7]> <html class=\"ie7 oldie\" lang=\"en\"> <![endif]-->\n",
      "<!--[if IE 8]> <html class=\"ie8 oldie\" lang=\"en\"> <![endif]-->\n",
      "<!--[if gt IE 8]><!--> <html lang=\"en\"> <!--<![endif]-->\n",
      "<head>\n",
      "<script>\n",
      "dataLayer =\n",
      "[{\n",
      "'language': 'en',\n",
      "'loginState': false,\n",
      "'pageName':'ps:'productgridutils.getfirstparentname(pdict.productsearchresult.category):productgridutils.getsecondparentname(pdict.productsearchresult.category):den\n"
     ]
    }
   ],
   "source": [
    "from requests import get\n",
    "url = \"https://www.petsmart.com/dog/treats/dental-treats/#page_name=flyout&category=dog&cta=dentaltreat\"\n",
    "\n",
    "response = get(url)\n",
    "print(response.text[:500])"
   ]
  },
  {
   "cell_type": "code",
   "execution_count": 4,
   "metadata": {},
   "outputs": [],
   "source": [
    "# scrape the data\n",
    "import pandas as pd\n",
    "from bs4 import BeautifulSoup\n",
    "html_soup = BeautifulSoup(response.text, 'html.parser')\n",
    "\n"
   ]
  },
  {
   "cell_type": "code",
   "execution_count": 5,
   "metadata": {},
   "outputs": [],
   "source": [
    "dog_containers = html_soup.find_all('div', class_ = 'product-tile')\n"
   ]
  },
  {
   "cell_type": "code",
   "execution_count": 6,
   "metadata": {},
   "outputs": [],
   "source": [
    "dlist = []\n",
    "for container in dog_containers:\n",
    "    d ={}\n",
    "    d['name'] = container.find('div', class_=\"product-name\").text \n",
    "    dlist.append(d)\n"
   ]
  },
  {
   "cell_type": "code",
   "execution_count": 7,
   "metadata": {},
   "outputs": [
    {
     "data": {
      "text/html": [
       "<div>\n",
       "<style scoped>\n",
       "    .dataframe tbody tr th:only-of-type {\n",
       "        vertical-align: middle;\n",
       "    }\n",
       "\n",
       "    .dataframe tbody tr th {\n",
       "        vertical-align: top;\n",
       "    }\n",
       "\n",
       "    .dataframe thead th {\n",
       "        text-align: right;\n",
       "    }\n",
       "</style>\n",
       "<table border=\"1\" class=\"dataframe\">\n",
       "  <thead>\n",
       "    <tr style=\"text-align: right;\">\n",
       "      <th></th>\n",
       "      <th>name</th>\n",
       "    </tr>\n",
       "  </thead>\n",
       "  <tbody>\n",
       "    <tr>\n",
       "      <td>0</td>\n",
       "      <td>\\nGreenies Regular Dental Dog Treats\\n</td>\n",
       "    </tr>\n",
       "    <tr>\n",
       "      <td>1</td>\n",
       "      <td>\\nGreenies Petite Dental Dog Treats\\n</td>\n",
       "    </tr>\n",
       "    <tr>\n",
       "      <td>2</td>\n",
       "      <td>\\nGreenies Large Dental Dog Treats\\n</td>\n",
       "    </tr>\n",
       "    <tr>\n",
       "      <td>3</td>\n",
       "      <td>\\nPedigree Dentastix Large Dog Treats\\n</td>\n",
       "    </tr>\n",
       "    <tr>\n",
       "      <td>4</td>\n",
       "      <td>\\nGreenies 6 Month+ Puppy Petite Dental Dog Tr...</td>\n",
       "    </tr>\n",
       "  </tbody>\n",
       "</table>\n",
       "</div>"
      ],
      "text/plain": [
       "                                                name\n",
       "0             \\nGreenies Regular Dental Dog Treats\\n\n",
       "1              \\nGreenies Petite Dental Dog Treats\\n\n",
       "2               \\nGreenies Large Dental Dog Treats\\n\n",
       "3            \\nPedigree Dentastix Large Dog Treats\\n\n",
       "4  \\nGreenies 6 Month+ Puppy Petite Dental Dog Tr..."
      ]
     },
     "execution_count": 7,
     "metadata": {},
     "output_type": "execute_result"
    }
   ],
   "source": [
    "# load the data ito a dataframe file\n",
    "df_dogs = pd.DataFrame(dlist)\n",
    "df_dogs.head()"
   ]
  },
  {
   "cell_type": "code",
   "execution_count": 8,
   "metadata": {},
   "outputs": [],
   "source": [
    "# Cleaning names of Data\n",
    "df_dogs.replace(r'\\n',  ' ', regex=True,inplace=True)\n"
   ]
  },
  {
   "cell_type": "code",
   "execution_count": 9,
   "metadata": {},
   "outputs": [],
   "source": [
    "# save the data as a csv file\n",
    "df_dogs.to_csv('data/part1.csv',index = False)"
   ]
  },
  {
   "cell_type": "code",
   "execution_count": 10,
   "metadata": {},
   "outputs": [
    {
     "data": {
      "text/html": [
       "<div>\n",
       "<style scoped>\n",
       "    .dataframe tbody tr th:only-of-type {\n",
       "        vertical-align: middle;\n",
       "    }\n",
       "\n",
       "    .dataframe tbody tr th {\n",
       "        vertical-align: top;\n",
       "    }\n",
       "\n",
       "    .dataframe thead th {\n",
       "        text-align: right;\n",
       "    }\n",
       "</style>\n",
       "<table border=\"1\" class=\"dataframe\">\n",
       "  <thead>\n",
       "    <tr style=\"text-align: right;\">\n",
       "      <th></th>\n",
       "      <th>name</th>\n",
       "    </tr>\n",
       "  </thead>\n",
       "  <tbody>\n",
       "    <tr>\n",
       "      <td>0</td>\n",
       "      <td>Greenies Regular Dental Dog Treats</td>\n",
       "    </tr>\n",
       "    <tr>\n",
       "      <td>1</td>\n",
       "      <td>Greenies Petite Dental Dog Treats</td>\n",
       "    </tr>\n",
       "    <tr>\n",
       "      <td>2</td>\n",
       "      <td>Greenies Large Dental Dog Treats</td>\n",
       "    </tr>\n",
       "    <tr>\n",
       "      <td>3</td>\n",
       "      <td>Pedigree Dentastix Large Dog Treats</td>\n",
       "    </tr>\n",
       "    <tr>\n",
       "      <td>4</td>\n",
       "      <td>Greenies 6 Month+ Puppy Petite Dental Dog Tre...</td>\n",
       "    </tr>\n",
       "  </tbody>\n",
       "</table>\n",
       "</div>"
      ],
      "text/plain": [
       "                                                name\n",
       "0                Greenies Regular Dental Dog Treats \n",
       "1                 Greenies Petite Dental Dog Treats \n",
       "2                  Greenies Large Dental Dog Treats \n",
       "3               Pedigree Dentastix Large Dog Treats \n",
       "4   Greenies 6 Month+ Puppy Petite Dental Dog Tre..."
      ]
     },
     "execution_count": 10,
     "metadata": {},
     "output_type": "execute_result"
    }
   ],
   "source": [
    "# display df.head()\n",
    "df_dogs.head()"
   ]
  },
  {
   "cell_type": "markdown",
   "metadata": {},
   "source": [
    "# Part 2\n",
    "\n",
    "load in the csv file located in the `data` folder called `part2.csv`\n",
    "\n",
    "create a function that calculates the zscores of an array\n",
    "\n",
    "then calculate the zscores for each column in part2.csv and add them as columns\n",
    "\n",
    "See below for final result\n",
    "\n",
    "<img src=\"solutions/images/part2_df_preview.png\"/>"
   ]
  },
  {
   "cell_type": "code",
   "execution_count": 11,
   "metadata": {},
   "outputs": [],
   "source": [
    "import numpy as np"
   ]
  },
  {
   "cell_type": "code",
   "execution_count": 12,
   "metadata": {},
   "outputs": [
    {
     "data": {
      "text/html": [
       "<div>\n",
       "<style scoped>\n",
       "    .dataframe tbody tr th:only-of-type {\n",
       "        vertical-align: middle;\n",
       "    }\n",
       "\n",
       "    .dataframe tbody tr th {\n",
       "        vertical-align: top;\n",
       "    }\n",
       "\n",
       "    .dataframe thead th {\n",
       "        text-align: right;\n",
       "    }\n",
       "</style>\n",
       "<table border=\"1\" class=\"dataframe\">\n",
       "  <thead>\n",
       "    <tr style=\"text-align: right;\">\n",
       "      <th></th>\n",
       "      <th>salaries</th>\n",
       "      <th>NPS Score</th>\n",
       "      <th>eventOutcome</th>\n",
       "    </tr>\n",
       "  </thead>\n",
       "  <tbody>\n",
       "    <tr>\n",
       "      <td>0</td>\n",
       "      <td>44112.0</td>\n",
       "      <td>-7.0</td>\n",
       "      <td>1</td>\n",
       "    </tr>\n",
       "    <tr>\n",
       "      <td>1</td>\n",
       "      <td>46777.0</td>\n",
       "      <td>-12.0</td>\n",
       "      <td>2</td>\n",
       "    </tr>\n",
       "    <tr>\n",
       "      <td>2</td>\n",
       "      <td>50013.0</td>\n",
       "      <td>50.0</td>\n",
       "      <td>5</td>\n",
       "    </tr>\n",
       "    <tr>\n",
       "      <td>3</td>\n",
       "      <td>48983.0</td>\n",
       "      <td>-13.0</td>\n",
       "      <td>0</td>\n",
       "    </tr>\n",
       "    <tr>\n",
       "      <td>4</td>\n",
       "      <td>50751.0</td>\n",
       "      <td>-11.0</td>\n",
       "      <td>6</td>\n",
       "    </tr>\n",
       "  </tbody>\n",
       "</table>\n",
       "</div>"
      ],
      "text/plain": [
       "   salaries  NPS Score  eventOutcome\n",
       "0   44112.0       -7.0             1\n",
       "1   46777.0      -12.0             2\n",
       "2   50013.0       50.0             5\n",
       "3   48983.0      -13.0             0\n",
       "4   50751.0      -11.0             6"
      ]
     },
     "execution_count": 12,
     "metadata": {},
     "output_type": "execute_result"
    }
   ],
   "source": [
    "df = pd.read_csv('data/part2.csv')\n",
    "df.head()"
   ]
  },
  {
   "cell_type": "code",
   "execution_count": 13,
   "metadata": {},
   "outputs": [],
   "source": [
    "def zscores(data):\n",
    "    mu = data.mean()\n",
    "    std = data.std()\n",
    "    data_z = (data-mu)/std\n",
    "    return data_z"
   ]
  },
  {
   "cell_type": "code",
   "execution_count": 14,
   "metadata": {},
   "outputs": [],
   "source": [
    "# calculate the zscore for each column and store them as a new column with the names used above\n",
    "df['salaries_zscores'] = zscores(df['salaries'])\n",
    "df['NPS Score_zscores'] = zscores(df['NPS Score'])\n",
    "df['evenOutcome_zscores'] = zscores(df['eventOutcome'])"
   ]
  },
  {
   "cell_type": "code",
   "execution_count": 15,
   "metadata": {},
   "outputs": [
    {
     "data": {
      "text/html": [
       "<div>\n",
       "<style scoped>\n",
       "    .dataframe tbody tr th:only-of-type {\n",
       "        vertical-align: middle;\n",
       "    }\n",
       "\n",
       "    .dataframe tbody tr th {\n",
       "        vertical-align: top;\n",
       "    }\n",
       "\n",
       "    .dataframe thead th {\n",
       "        text-align: right;\n",
       "    }\n",
       "</style>\n",
       "<table border=\"1\" class=\"dataframe\">\n",
       "  <thead>\n",
       "    <tr style=\"text-align: right;\">\n",
       "      <th></th>\n",
       "      <th>salaries</th>\n",
       "      <th>NPS Score</th>\n",
       "      <th>eventOutcome</th>\n",
       "      <th>salaries_zscores</th>\n",
       "      <th>NPS Score_zscores</th>\n",
       "      <th>evenOutcome_zscores</th>\n",
       "    </tr>\n",
       "  </thead>\n",
       "  <tbody>\n",
       "    <tr>\n",
       "      <td>0</td>\n",
       "      <td>44112.0</td>\n",
       "      <td>-7.0</td>\n",
       "      <td>1</td>\n",
       "      <td>-1.460155</td>\n",
       "      <td>-0.913522</td>\n",
       "      <td>-1.103166</td>\n",
       "    </tr>\n",
       "    <tr>\n",
       "      <td>1</td>\n",
       "      <td>46777.0</td>\n",
       "      <td>-12.0</td>\n",
       "      <td>2</td>\n",
       "      <td>-0.793981</td>\n",
       "      <td>-1.080668</td>\n",
       "      <td>-0.668095</td>\n",
       "    </tr>\n",
       "    <tr>\n",
       "      <td>2</td>\n",
       "      <td>50013.0</td>\n",
       "      <td>50.0</td>\n",
       "      <td>5</td>\n",
       "      <td>0.014926</td>\n",
       "      <td>0.991947</td>\n",
       "      <td>0.637118</td>\n",
       "    </tr>\n",
       "    <tr>\n",
       "      <td>3</td>\n",
       "      <td>48983.0</td>\n",
       "      <td>-13.0</td>\n",
       "      <td>0</td>\n",
       "      <td>-0.242545</td>\n",
       "      <td>-1.114097</td>\n",
       "      <td>-1.538237</td>\n",
       "    </tr>\n",
       "    <tr>\n",
       "      <td>4</td>\n",
       "      <td>50751.0</td>\n",
       "      <td>-11.0</td>\n",
       "      <td>6</td>\n",
       "      <td>0.199405</td>\n",
       "      <td>-1.047239</td>\n",
       "      <td>1.072189</td>\n",
       "    </tr>\n",
       "  </tbody>\n",
       "</table>\n",
       "</div>"
      ],
      "text/plain": [
       "   salaries  NPS Score  eventOutcome  salaries_zscores  NPS Score_zscores  \\\n",
       "0   44112.0       -7.0             1         -1.460155          -0.913522   \n",
       "1   46777.0      -12.0             2         -0.793981          -1.080668   \n",
       "2   50013.0       50.0             5          0.014926           0.991947   \n",
       "3   48983.0      -13.0             0         -0.242545          -1.114097   \n",
       "4   50751.0      -11.0             6          0.199405          -1.047239   \n",
       "\n",
       "   evenOutcome_zscores  \n",
       "0            -1.103166  \n",
       "1            -0.668095  \n",
       "2             0.637118  \n",
       "3            -1.538237  \n",
       "4             1.072189  "
      ]
     },
     "execution_count": 15,
     "metadata": {},
     "output_type": "execute_result"
    }
   ],
   "source": [
    "df.head()"
   ]
  },
  {
   "cell_type": "markdown",
   "metadata": {},
   "source": [
    "# Part 3 \n",
    "plot 'salaries' and 'NPS Score' on a subplot (1 row 2 columns) \n",
    "then repeat this for the zscores\n",
    "\n",
    "see image below for reference\n",
    "<img src=\"solutions/images/part2-plots.png\"/>"
   ]
  },
  {
   "cell_type": "code",
   "execution_count": 16,
   "metadata": {},
   "outputs": [],
   "source": [
    "import matplotlib.pyplot as plt\n",
    "import seaborn as sns"
   ]
  },
  {
   "cell_type": "code",
   "execution_count": 188,
   "metadata": {},
   "outputs": [
    {
     "data": {
      "image/png": "[encoded data removed]",
      "text/plain": [
       "<Figure size 1080x360 with 2 Axes>"
      ]
     },
     "metadata": {
      "needs_background": "light"
     },
     "output_type": "display_data"
    }
   ],
   "source": [
    "# plot for salaries and NPS Score data goes here\n",
    "myfigure = plt.figure(figsize = (15,5))\n",
    "\n",
    "\n",
    "ax1 = myfigure.add_subplot(121)\n",
    "ax2 = myfigure.add_subplot(122)\n",
    "\n",
    "# df['salaries'].hist(ax=ax1, color = '#2af7c1')\n",
    "df['salaries'].hist( ax=ax1, color = '#2af7c1',zorder = 2)\n",
    "df['NPS Score'].hist( ax=ax2, color = '#2af7c1',zorder = 2)\n",
    "\n",
    "ax1.set_title('Salaries')\n",
    "ax2.set_title('NPS Scores')\n",
    "\n",
    "ax1.axvline(df['salaries'].mean(), color = 'Red', label = \"Mean weight:\" + str(round(df['salaries'].mean(),2)));\n",
    "ax2.axvline(df['NPS Score'].mean(), color = 'Red', label = \"Mean weight:\" + str(round(df['NPS Score'].mean(),2)));\n",
    "\n",
    "ax1.legend()\n",
    "ax2.legend()\n",
    "\n",
    "plt.show()"
   ]
  },
  {
   "cell_type": "code",
   "execution_count": 131,
   "metadata": {},
   "outputs": [
    {
     "data": {
      "image/png": "[encoded data removed]",
      "text/plain": [
       "<Figure size 1080x360 with 2 Axes>"
      ]
     },
     "metadata": {
      "needs_background": "light"
     },
     "output_type": "display_data"
    }
   ],
   "source": [
    "# plot for zscores for salaries and NPS Score data goes here\n",
    "myfigure = plt.figure(figsize = (15,5))\n",
    "\n",
    "ax1 = myfigure.add_subplot(121)\n",
    "ax2 = myfigure.add_subplot(122)\n",
    "\n",
    "df['salaries_zscores'].plot(kind='hist', ax=ax1, color = '#5109eb' )\n",
    "df['NPS Score_zscores'].plot(kind='hist', ax=ax2, color = '#5109eb' )\n",
    "\n",
    "ax1.set_title('Salaries - Z-score')\n",
    "ax2.set_title('NPS Scores - Z-score')\n",
    "\n",
    "plt.show()"
   ]
  },
  {
   "cell_type": "markdown",
   "metadata": {},
   "source": [
    "# Part 4 - PMF\n",
    "using the column 'eventOutcomes'\n",
    "\n",
    "create a PMF and plot the PMF as a bar chart\n",
    "\n",
    "See image below for referenc\n",
    "\n",
    "<img src=\"solutions/images/part4_pmf.png\"/>"
   ]
  },
  {
   "cell_type": "code",
   "execution_count": 69,
   "metadata": {},
   "outputs": [
    {
     "data": {
      "text/plain": [
       "4    666\n",
       "7    661\n",
       "3    636\n",
       "0    624\n",
       "6    622\n",
       "1    608\n",
       "2    592\n",
       "5    591\n",
       "Name: eventOutcome, dtype: int64"
      ]
     },
     "execution_count": 69,
     "metadata": {},
     "output_type": "execute_result"
    }
   ],
   "source": [
    "df['eventOutcome'].value_counts()"
   ]
  },
  {
   "cell_type": "code",
   "execution_count": 71,
   "metadata": {},
   "outputs": [
    {
     "data": {
      "text/plain": [
       "{1: 608, 2: 592, 5: 591, 0: 624, 6: 622, 4: 666, 3: 636, 7: 661}"
      ]
     },
     "execution_count": 71,
     "metadata": {},
     "output_type": "execute_result"
    }
   ],
   "source": [
    "eventcounter = {}\n",
    "for event in df['eventOutcome']:\n",
    "    eventcounter[event] = eventcounter.get(event,0)+1\n",
    "eventcounter"
   ]
  },
  {
   "cell_type": "code",
   "execution_count": 73,
   "metadata": {
    "scrolled": true
   },
   "outputs": [
    {
     "data": {
      "text/plain": [
       "5000"
      ]
     },
     "execution_count": 73,
     "metadata": {},
     "output_type": "execute_result"
    }
   ],
   "source": [
    "sum_events = sum(eventcounter.values())\n",
    "sum_events"
   ]
  },
  {
   "cell_type": "code",
   "execution_count": 75,
   "metadata": {},
   "outputs": [
    {
     "data": {
      "text/plain": [
       "[0.122, 0.118, 0.118, 0.125, 0.124, 0.133, 0.127, 0.132]"
      ]
     },
     "execution_count": 75,
     "metadata": {},
     "output_type": "execute_result"
    }
   ],
   "source": [
    "pmf = list(map(lambda x: round(x/sum_events,3),eventcounter.values()))  \n",
    "pmf"
   ]
  },
  {
   "cell_type": "code",
   "execution_count": 137,
   "metadata": {},
   "outputs": [
    {
     "data": {
      "image/png": "[encoded data removed]",
      "text/plain": [
       "<Figure size 576x360 with 1 Axes>"
      ]
     },
     "metadata": {
      "needs_background": "light"
     },
     "output_type": "display_data"
    }
   ],
   "source": [
    "\n",
    "plt.figure(figsize=(8,5))\n",
    "\n",
    "plt.bar(eventcounter.keys(), pmf,zorder = 2, color = '#2af7c1', linewidth = 1.5, edgecolor ='k')\n",
    "\n",
    "plt.title(\"Event Outcome PMF\")\n",
    "plt.xlabel('Event Outcome')\n",
    "plt.ylabel('Probability')\n",
    "plt.ylim(0,0.14)\n",
    "plt.show()"
   ]
  },
  {
   "cell_type": "markdown",
   "metadata": {},
   "source": [
    "# Part 5 - CDF\n",
    "plot the CDF of Event Outcomes as a scatter plot using the information above\n",
    "\n",
    "See image below for reference \n",
    "\n",
    "<img src=\"solutions/images/part5_cmf.png\"/>"
   ]
  },
  {
   "cell_type": "code",
   "execution_count": 82,
   "metadata": {},
   "outputs": [],
   "source": [
    "import numpy as np"
   ]
  },
  {
   "cell_type": "code",
   "execution_count": 98,
   "metadata": {
    "scrolled": true
   },
   "outputs": [
    {
     "data": {
      "text/plain": [
       "[0, 1, 2, 3, 4, 5, 6, 7]"
      ]
     },
     "execution_count": 98,
     "metadata": {},
     "output_type": "execute_result"
    }
   ],
   "source": [
    "cumsum = list(np.cumsum(pmf))\n",
    "cumsum\n",
    "events = sorted(list(eventcounter.keys()))\n",
    "events"
   ]
  },
  {
   "cell_type": "code",
   "execution_count": 103,
   "metadata": {},
   "outputs": [
    {
     "data": {
      "text/plain": [
       "Text(0.5, 1.0, 'Cumulative Mass Function for Event Outcome')"
      ]
     },
     "execution_count": 103,
     "metadata": {},
     "output_type": "execute_result"
    },
    {
     "data": {
      "image/png": "[encoded data removed]",
      "text/plain": [
       "<Figure size 432x288 with 1 Axes>"
      ]
     },
     "metadata": {
      "needs_background": "light"
     },
     "output_type": "display_data"
    }
   ],
   "source": [
    "plt.scatter(events,cumsum)\n",
    "plt.xlabel(\"Event Outcome\", labelpad=10)\n",
    "plt.ylabel(\" P (E < = N)\", labelpad=10)\n",
    "plt.title(\"Cumulative Mass Function for Event Outcome\")"
   ]
  },
  {
   "cell_type": "markdown",
   "metadata": {},
   "source": [
    "# Bonus:\n",
    "* using np.where find salaries with zscores <= -2.0\n",
    "\n",
    "* calculate the skewness and kurtosis for the NPS Score column"
   ]
  },
  {
   "cell_type": "code",
   "execution_count": 106,
   "metadata": {},
   "outputs": [],
   "source": [
    "# find salaries with zscores <= -2.0 "
   ]
  },
  {
   "cell_type": "code",
   "execution_count": 165,
   "metadata": {
    "scrolled": true
   },
   "outputs": [
    {
     "data": {
      "text/plain": [
       "0      -1.460155\n",
       "1      -0.793981\n",
       "2       0.014926\n",
       "3      -0.242545\n",
       "4       0.199405\n",
       "          ...   \n",
       "4995    0.156660\n",
       "4996    1.143046\n",
       "4997   -0.954463\n",
       "4998   -0.682494\n",
       "4999   -0.510014\n",
       "Name: salaries_zscores, Length: 5000, dtype: float64"
      ]
     },
     "execution_count": 165,
     "metadata": {},
     "output_type": "execute_result"
    }
   ],
   "source": [
    "z_scores = df['salaries_zscores']\n",
    "z_scores"
   ]
  },
  {
   "cell_type": "code",
   "execution_count": 172,
   "metadata": {
    "scrolled": true
   },
   "outputs": [
    {
     "data": {
      "text/plain": [
       "[20,\n",
       " 41,\n",
       " 89,\n",
       " 107,\n",
       " 285,\n",
       " 286,\n",
       " 291,\n",
       " 303,\n",
       " 338,\n",
       " 399,\n",
       " 408,\n",
       " 411,\n",
       " 415,\n",
       " 445,\n",
       " 454,\n",
       " 489,\n",
       " 554,\n",
       " 570,\n",
       " 640,\n",
       " 658,\n",
       " 687,\n",
       " 690,\n",
       " 746,\n",
       " 767,\n",
       " 781,\n",
       " 784,\n",
       " 792,\n",
       " 839,\n",
       " 873,\n",
       " 915,\n",
       " 962,\n",
       " 977,\n",
       " 1049,\n",
       " 1113,\n",
       " 1124,\n",
       " 1173,\n",
       " 1184,\n",
       " 1197,\n",
       " 1221,\n",
       " 1246,\n",
       " 1303,\n",
       " 1306,\n",
       " 1312,\n",
       " 1337,\n",
       " 1344,\n",
       " 1360,\n",
       " 1526,\n",
       " 1565,\n",
       " 1626,\n",
       " 1646,\n",
       " 1763,\n",
       " 1764,\n",
       " 1879,\n",
       " 1931,\n",
       " 1958,\n",
       " 1966,\n",
       " 1983,\n",
       " 2013,\n",
       " 2025,\n",
       " 2052,\n",
       " 2161,\n",
       " 2314,\n",
       " 2356,\n",
       " 2391,\n",
       " 2396,\n",
       " 2452,\n",
       " 2622,\n",
       " 2630,\n",
       " 2640,\n",
       " 2685,\n",
       " 2731,\n",
       " 2802,\n",
       " 2888,\n",
       " 2894,\n",
       " 2908,\n",
       " 2965,\n",
       " 2982,\n",
       " 3036,\n",
       " 3129,\n",
       " 3173,\n",
       " 3262,\n",
       " 3287,\n",
       " 3292,\n",
       " 3293,\n",
       " 3317,\n",
       " 3379,\n",
       " 3432,\n",
       " 3445,\n",
       " 3496,\n",
       " 3546,\n",
       " 3582,\n",
       " 3646,\n",
       " 3656,\n",
       " 3708,\n",
       " 3709,\n",
       " 3761,\n",
       " 3918,\n",
       " 3953,\n",
       " 4018,\n",
       " 4038,\n",
       " 4062,\n",
       " 4116,\n",
       " 4122,\n",
       " 4155,\n",
       " 4158,\n",
       " 4168,\n",
       " 4174,\n",
       " 4181,\n",
       " 4211,\n",
       " 4276,\n",
       " 4308,\n",
       " 4341,\n",
       " 4346,\n",
       " 4448,\n",
       " 4458,\n",
       " 4506,\n",
       " 4528,\n",
       " 4571,\n",
       " 4692,\n",
       " 4707,\n",
       " 4731,\n",
       " 4765,\n",
       " 4949]"
      ]
     },
     "execution_count": 172,
     "metadata": {},
     "output_type": "execute_result"
    }
   ],
   "source": [
    "salaries_z_under2 = list(np.where(z_scores <=-2)[0])\n",
    "salaries_z_under2"
   ]
  },
  {
   "cell_type": "code",
   "execution_count": 173,
   "metadata": {},
   "outputs": [
    {
     "data": {
      "text/plain": [
       "123"
      ]
     },
     "execution_count": 173,
     "metadata": {},
     "output_type": "execute_result"
    }
   ],
   "source": [
    "len(salaries_z_under2)"
   ]
  },
  {
   "cell_type": "code",
   "execution_count": 147,
   "metadata": {},
   "outputs": [
    {
     "data": {
      "text/html": [
       "<div>\n",
       "<style scoped>\n",
       "    .dataframe tbody tr th:only-of-type {\n",
       "        vertical-align: middle;\n",
       "    }\n",
       "\n",
       "    .dataframe tbody tr th {\n",
       "        vertical-align: top;\n",
       "    }\n",
       "\n",
       "    .dataframe thead th {\n",
       "        text-align: right;\n",
       "    }\n",
       "</style>\n",
       "<table border=\"1\" class=\"dataframe\">\n",
       "  <thead>\n",
       "    <tr style=\"text-align: right;\">\n",
       "      <th></th>\n",
       "      <th>salaries</th>\n",
       "      <th>NPS Score</th>\n",
       "      <th>eventOutcome</th>\n",
       "      <th>salaries_zscores</th>\n",
       "      <th>NPS Score_zscores</th>\n",
       "      <th>evenOutcome_zscores</th>\n",
       "    </tr>\n",
       "  </thead>\n",
       "  <tbody>\n",
       "    <tr>\n",
       "      <td>20</td>\n",
       "      <td>39383.0</td>\n",
       "      <td>47.0</td>\n",
       "      <td>1</td>\n",
       "      <td>-2.642269</td>\n",
       "      <td>0.891659</td>\n",
       "      <td>-1.103166</td>\n",
       "    </tr>\n",
       "    <tr>\n",
       "      <td>41</td>\n",
       "      <td>38063.0</td>\n",
       "      <td>2.0</td>\n",
       "      <td>5</td>\n",
       "      <td>-2.972231</td>\n",
       "      <td>-0.612658</td>\n",
       "      <td>0.637118</td>\n",
       "    </tr>\n",
       "    <tr>\n",
       "      <td>89</td>\n",
       "      <td>41458.0</td>\n",
       "      <td>65.0</td>\n",
       "      <td>7</td>\n",
       "      <td>-2.123578</td>\n",
       "      <td>1.493386</td>\n",
       "      <td>1.507260</td>\n",
       "    </tr>\n",
       "    <tr>\n",
       "      <td>107</td>\n",
       "      <td>40854.0</td>\n",
       "      <td>27.0</td>\n",
       "      <td>4</td>\n",
       "      <td>-2.274561</td>\n",
       "      <td>0.223074</td>\n",
       "      <td>0.202047</td>\n",
       "    </tr>\n",
       "    <tr>\n",
       "      <td>285</td>\n",
       "      <td>40886.0</td>\n",
       "      <td>43.0</td>\n",
       "      <td>5</td>\n",
       "      <td>-2.266562</td>\n",
       "      <td>0.757942</td>\n",
       "      <td>0.637118</td>\n",
       "    </tr>\n",
       "    <tr>\n",
       "      <td>...</td>\n",
       "      <td>...</td>\n",
       "      <td>...</td>\n",
       "      <td>...</td>\n",
       "      <td>...</td>\n",
       "      <td>...</td>\n",
       "      <td>...</td>\n",
       "    </tr>\n",
       "    <tr>\n",
       "      <td>4692</td>\n",
       "      <td>38341.0</td>\n",
       "      <td>37.0</td>\n",
       "      <td>3</td>\n",
       "      <td>-2.902739</td>\n",
       "      <td>0.557366</td>\n",
       "      <td>-0.233024</td>\n",
       "    </tr>\n",
       "    <tr>\n",
       "      <td>4707</td>\n",
       "      <td>41813.0</td>\n",
       "      <td>96.0</td>\n",
       "      <td>1</td>\n",
       "      <td>-2.034839</td>\n",
       "      <td>2.529693</td>\n",
       "      <td>-1.103166</td>\n",
       "    </tr>\n",
       "    <tr>\n",
       "      <td>4731</td>\n",
       "      <td>41184.0</td>\n",
       "      <td>21.0</td>\n",
       "      <td>0</td>\n",
       "      <td>-2.192071</td>\n",
       "      <td>0.022498</td>\n",
       "      <td>-1.538237</td>\n",
       "    </tr>\n",
       "    <tr>\n",
       "      <td>4765</td>\n",
       "      <td>40108.0</td>\n",
       "      <td>43.0</td>\n",
       "      <td>2</td>\n",
       "      <td>-2.461040</td>\n",
       "      <td>0.757942</td>\n",
       "      <td>-0.668095</td>\n",
       "    </tr>\n",
       "    <tr>\n",
       "      <td>4949</td>\n",
       "      <td>38915.0</td>\n",
       "      <td>13.0</td>\n",
       "      <td>7</td>\n",
       "      <td>-2.759255</td>\n",
       "      <td>-0.244936</td>\n",
       "      <td>1.507260</td>\n",
       "    </tr>\n",
       "  </tbody>\n",
       "</table>\n",
       "<p>123 rows × 6 columns</p>\n",
       "</div>"
      ],
      "text/plain": [
       "      salaries  NPS Score  eventOutcome  salaries_zscores  NPS Score_zscores  \\\n",
       "20     39383.0       47.0             1         -2.642269           0.891659   \n",
       "41     38063.0        2.0             5         -2.972231          -0.612658   \n",
       "89     41458.0       65.0             7         -2.123578           1.493386   \n",
       "107    40854.0       27.0             4         -2.274561           0.223074   \n",
       "285    40886.0       43.0             5         -2.266562           0.757942   \n",
       "...        ...        ...           ...               ...                ...   \n",
       "4692   38341.0       37.0             3         -2.902739           0.557366   \n",
       "4707   41813.0       96.0             1         -2.034839           2.529693   \n",
       "4731   41184.0       21.0             0         -2.192071           0.022498   \n",
       "4765   40108.0       43.0             2         -2.461040           0.757942   \n",
       "4949   38915.0       13.0             7         -2.759255          -0.244936   \n",
       "\n",
       "      evenOutcome_zscores  \n",
       "20              -1.103166  \n",
       "41               0.637118  \n",
       "89               1.507260  \n",
       "107              0.202047  \n",
       "285              0.637118  \n",
       "...                   ...  \n",
       "4692            -0.233024  \n",
       "4707            -1.103166  \n",
       "4731            -1.538237  \n",
       "4765            -0.668095  \n",
       "4949             1.507260  \n",
       "\n",
       "[123 rows x 6 columns]"
      ]
     },
     "execution_count": 147,
     "metadata": {},
     "output_type": "execute_result"
    }
   ],
   "source": [
    "# Checking to see if they match up\n",
    "df.loc[df['salaries_zscores'] < -2.0]"
   ]
  },
  {
   "cell_type": "code",
   "execution_count": null,
   "metadata": {},
   "outputs": [],
   "source": [
    "# Both have 123 entries"
   ]
  },
  {
   "cell_type": "code",
   "execution_count": null,
   "metadata": {},
   "outputs": [],
   "source": []
  },
  {
   "cell_type": "code",
   "execution_count": 107,
   "metadata": {},
   "outputs": [],
   "source": [
    "# calculate skewness and kurtosis of NPS Score column"
   ]
  },
  {
   "cell_type": "code",
   "execution_count": 190,
   "metadata": {},
   "outputs": [],
   "source": [
    "from scipy.stats import kurtosis, skew"
   ]
  },
  {
   "cell_type": "code",
   "execution_count": 191,
   "metadata": {},
   "outputs": [
    {
     "name": "stdout",
     "output_type": "stream",
     "text": [
      "Skewness = 0.02450527688165856\n",
      "kurtosis = -0.04212714461681166\n"
     ]
    }
   ],
   "source": [
    "print ('Skewness =', skew(df['NPS Score']))\n",
    "print ('kurtosis =', kurtosis(df['NPS Score']))"
   ]
  },
  {
   "cell_type": "code",
   "execution_count": null,
   "metadata": {},
   "outputs": [],
   "source": []
  },
  {
   "cell_type": "markdown",
   "metadata": {},
   "source": [
    "# run the cell below to convert your notebook to a README for assessment"
   ]
  },
  {
   "cell_type": "code",
   "execution_count": 189,
   "metadata": {},
   "outputs": [
    {
     "name": "stdout",
     "output_type": "stream",
     "text": [
      "[NbConvertApp] Converting notebook assessment.ipynb to markdown\n",
      "[NbConvertApp] Support files will be in assessment_files/\n",
      "[NbConvertApp] Making directory assessment_files\n",
      "[NbConvertApp] Making directory assessment_files\n",
      "[NbConvertApp] Making directory assessment_files\n",
      "[NbConvertApp] Making directory assessment_files\n",
      "[NbConvertApp] Writing 15514 bytes to assessment.md\n"
     ]
    }
   ],
   "source": [
    "!jupyter nbconvert --to markdown assessment.ipynb && mv assessment.md README.md"
   ]
  },
  {
   "cell_type": "code",
   "execution_count": null,
   "metadata": {},
   "outputs": [],
   "source": []
  }
 ],
 "metadata": {
  "kernelspec": {
   "display_name": "Python [conda env:learn-env] *",
   "language": "python",
   "name": "conda-env-learn-env-py"
  },
  "language_info": {
   "codemirror_mode": {
    "name": "ipython",
    "version": 3
   },
   "file_extension": ".py",
   "mimetype": "text/x-python",
   "name": "python",
   "nbconvert_exporter": "python",
   "pygments_lexer": "ipython3",
   "version": "3.6.9"
  }
 },
 "nbformat": 4,
 "nbformat_minor": 2
}
